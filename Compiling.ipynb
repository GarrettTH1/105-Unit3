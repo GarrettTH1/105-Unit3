{
 "cells": [
  {
   "cell_type": "markdown",
   "id": "f303fe99-8b09-4a8a-a070-490e4b25feb0",
   "metadata": {
    "tags": []
   },
   "source": [
    "# Overview\n",
    "This notebook uses a provided dataset containing public health information in US counties in the years 2014-2015. In this notebook the dataset is reduced down to a smaller subset of data through a few steps.\n",
    "## Steps\n",
    "1. Importing pandas to work with data\n",
    "2. Importing our original dataset\n",
    "3. Condensing the dataset using two functions\n",
    "4. Exporting our new dataset"
   ]
  },
  {
   "cell_type": "code",
   "execution_count": 1,
   "id": "824521a6-b0a4-4205-8ee9-2f37c5d6a756",
   "metadata": {},
   "outputs": [],
   "source": [
    "import numpy as np\n",
    "import pandas as pd"
   ]
  },
  {
   "cell_type": "markdown",
   "id": "0d71b7ce-0ecf-42b2-8e93-cb346e7d45b7",
   "metadata": {},
   "source": [
    "## Importing pandas and numpy\n",
    "Pandas and numpy are packages that simplify the process of working with data in python.  \n",
    "Everytime pd appears in the dataset it means a pandas function is being used and the same applies for np and numpy.\n",
    "Feel free to define numpy and pandas as anything you want it will not affect functionality\n"
   ]
  },
  {
   "cell_type": "code",
   "execution_count": 2,
   "id": "c31dda08-7ec8-4490-bac4-1944a7366651",
   "metadata": {},
   "outputs": [],
   "source": [
    "data= pd.read_csv('/Users/garrett/Downloads/Unit 3 English/CountyHealthData_2014-2015.csv')"
   ]
  },
  {
   "cell_type": "markdown",
   "id": "4c9ebf2c-cce7-474b-b44c-e7ef3b62d217",
   "metadata": {
    "tags": []
   },
   "source": [
    "## Importing our dataset\n",
    "#### This function simply locates the .csv on our device and defines it as a variable\n",
    "- \"garrett\" should be replaced by your username on your device\n",
    "- The filepath on your device might be different depending on where the .csv is located\n",
    "- I chose to define the data as simply 'data' use whatever variable name works best for you\n",
    "\n",
    "## The Dataset\n",
    "This dataset contains a number of columns containing data for a number of health measurements in different counties.\n",
    "\n",
    "\n",
    "There are too many columns to list here but you can familiarize yourself with them using the dataset.\n",
    "\n",
    "\n",
    "The first couple columns simply include the location of the county and the name of the county, as well as the state it is located in.\n"
   ]
  },
  {
   "cell_type": "code",
   "execution_count": 3,
   "id": "c410ef53-23e0-4e4f-babf-6b356be744d7",
   "metadata": {},
   "outputs": [],
   "source": [
    "NC_subset = data[data[\"State\"] == \"NC\"].copy()"
   ]
  },
  {
   "cell_type": "markdown",
   "id": "4c059286-5c0c-492f-92c0-a9d1c1396d94",
   "metadata": {},
   "source": [
    "## First condensing function\n",
    "This function creates a copy of the dataset that only includes data where the state value is \"NC\"\n",
    "\n",
    "Doing this creates a new subset which I have defined as 'NC_subset' containing only data from North Carolina\n",
    "\n",
    "The use of .copy() at the end of the function prevents issues with the original data"
   ]
  },
  {
   "cell_type": "code",
   "execution_count": 90,
   "id": "a9b604da-0b57-40c7-805c-919624428969",
   "metadata": {},
   "outputs": [],
   "source": [
    "compileddata = NC_subset.iloc[:, np.r_[0:12,15:18,23:24, 55:61]].copy()"
   ]
  },
  {
   "cell_type": "markdown",
   "id": "28e2a1b9-686e-4274-a3e2-ad8c712022a6",
   "metadata": {},
   "source": [
    "## Second condensing function\n",
    "This function further reduces the dataset using a somewhat more complex numpy(np) function.\n",
    "\n",
    "The function takes all of the data from the columns listed inside the brackets.\n",
    "\n",
    "So the data in columns 0-12, 15-18, 23&24, and 55-61 is kept within the new dataset.\n",
    "\n",
    "You can choose any columns you wish by altering the numbers, just remember that python starts counting at 0.\n",
    "\n",
    "The new subset 'compileddata' contains the data I'm most interested in analyzing. I won't list all the columns but it includes information about median income, access to exercise, food quality, premature deaths, etc."
   ]
  },
  {
   "cell_type": "code",
   "execution_count": 97,
   "id": "fd001860-5336-4a6e-af74-0cb8665ef5cd",
   "metadata": {},
   "outputs": [],
   "source": [
    "compileddata.to_csv(\"county_health_data_2014-2015_condensed.csv\")"
   ]
  },
  {
   "cell_type": "markdown",
   "id": "debef2b4-5f4f-442f-861e-bff9f5ae16de",
   "metadata": {},
   "source": [
    "## Exporting the new dataset\n",
    "This function exports our new dataset 'compileddata' as a .csv\n",
    "\n",
    "The .csv will be located in the same folder as the notebook you are working in."
   ]
  },
  {
   "cell_type": "code",
   "execution_count": null,
   "id": "092a40a4-7987-452d-b5ab-db14bc331beb",
   "metadata": {},
   "outputs": [],
   "source": []
  }
 ],
 "metadata": {
  "kernelspec": {
   "display_name": "Python 3 (ipykernel)",
   "language": "python",
   "name": "python3"
  },
  "language_info": {
   "codemirror_mode": {
    "name": "ipython",
    "version": 3
   },
   "file_extension": ".py",
   "mimetype": "text/x-python",
   "name": "python",
   "nbconvert_exporter": "python",
   "pygments_lexer": "ipython3",
   "version": "3.9.13"
  }
 },
 "nbformat": 4,
 "nbformat_minor": 5
}
