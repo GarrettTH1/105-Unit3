{
 "cells": [
  {
   "cell_type": "code",
   "execution_count": null,
   "id": "c8849762-e41d-45dc-b9d3-1172f3833b5a",
   "metadata": {},
   "outputs": [],
   "source": [
    "# This code takes a larger public health dataset and condenses it to just the data from one state\n",
    "# then further condenses it to only include certain data categories.\n",
    "# We do this using a "
   ]
  },
  {
   "cell_type": "code",
   "execution_count": 1,
   "id": "824521a6-b0a4-4205-8ee9-2f37c5d6a756",
   "metadata": {},
   "outputs": [],
   "source": [
    "import numpy as np\n",
    "import pandas as pd"
   ]
  },
  {
   "cell_type": "code",
   "execution_count": null,
   "id": "06ae1235-1846-4b69-8ea4-f5b33a90eb1f",
   "metadata": {},
   "outputs": [],
   "source": [
    "# Imports pandas and numpy to facilitate working with data.\n",
    "# Anytime you see pd within the code that indicates the use of an imported panda function.\n",
    "# The same applies to numpy. When np appears in the code a numpy function/process is being used"
   ]
  },
  {
   "cell_type": "code",
   "execution_count": 2,
   "id": "c31dda08-7ec8-4490-bac4-1944a7366651",
   "metadata": {},
   "outputs": [],
   "source": [
    "data= pd.read_csv('/Users/garrett/Downloads/Unit 3 English/CountyHealthData_2014-2015.csv')"
   ]
  },
  {
   "cell_type": "code",
   "execution_count": 98,
   "id": "86218602-d727-43b6-9b6d-49ec5fdc853d",
   "metadata": {},
   "outputs": [],
   "source": [
    "# Import the .csv using its filepath on your device. I chose to define it as \"data\". \n",
    "# \"garrett\" should be replaced by your username on your device and the rest depends \n",
    "# on the .csv's location on your device."
   ]
  },
  {
   "cell_type": "code",
   "execution_count": 3,
   "id": "c410ef53-23e0-4e4f-babf-6b356be744d7",
   "metadata": {},
   "outputs": [],
   "source": [
    "NC_subset = data[data[\"State\"] == \"NC\"].copy()"
   ]
  },
  {
   "cell_type": "code",
   "execution_count": null,
   "id": "42df2018-98dc-453c-b871-59bfef98cab7",
   "metadata": {},
   "outputs": [],
   "source": [
    "# Creates a copy of the dataset with only the data from the state of North Carolina."
   ]
  },
  {
   "cell_type": "code",
   "execution_count": 90,
   "id": "a9b604da-0b57-40c7-805c-919624428969",
   "metadata": {},
   "outputs": [],
   "source": [
    "compileddata = NC_subset.iloc[:, np.r_[0:12,15:18,23:24, 55:61]].copy()"
   ]
  },
  {
   "cell_type": "code",
   "execution_count": null,
   "id": "4f9523a0-cbea-41f8-9b83-5d5b23753871",
   "metadata": {},
   "outputs": [],
   "source": [
    "# This function creates a new even more condensed dataset.\n",
    "# The function takes all rows of the columns listed inside the second set of brackets.\n",
    "# If you wish to change which columns are saved simply change the numbers, ensure syntax remains intact.\n",
    "# Remember that Python starts counting at 0 so the first column \"State\" is defined as column 0"
   ]
  },
  {
   "cell_type": "code",
   "execution_count": 97,
   "id": "fd001860-5336-4a6e-af74-0cb8665ef5cd",
   "metadata": {},
   "outputs": [],
   "source": [
    "compileddata.to_csv(\"county_health_data_2014-2015_condensed.csv\")"
   ]
  },
  {
   "cell_type": "code",
   "execution_count": null,
   "id": "1e1e28bd-adef-49cf-a562-f26a47653cbd",
   "metadata": {},
   "outputs": [],
   "source": [
    "# This exports the new dataset as a .csv.\n",
    "# The .csv will be in the same folder as the notebook you're working in."
   ]
  }
 ],
 "metadata": {
  "kernelspec": {
   "display_name": "Python 3 (ipykernel)",
   "language": "python",
   "name": "python3"
  },
  "language_info": {
   "codemirror_mode": {
    "name": "ipython",
    "version": 3
   },
   "file_extension": ".py",
   "mimetype": "text/x-python",
   "name": "python",
   "nbconvert_exporter": "python",
   "pygments_lexer": "ipython3",
   "version": "3.9.13"
  }
 },
 "nbformat": 4,
 "nbformat_minor": 5
}
